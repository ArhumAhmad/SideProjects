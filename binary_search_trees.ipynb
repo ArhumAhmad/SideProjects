{
  "cells": [
    {
      "cell_type": "code",
      "execution_count": null,
      "metadata": {
        "id": "VGMB1aGep2fo"
      },
      "outputs": [],
      "source": [
        "class Node:\n",
        "    right, left, num = None, None, None\n",
        "\n",
        "    def __init__(self, n):\n",
        "        self.right = None\n",
        "        self.left = None \n",
        "        self.num = n \n",
        "\n",
        "    def getLeft(self):\n",
        "        return self.left \n",
        "\n",
        "    def getRight(self):\n",
        "        return self.right \n",
        "\n",
        "    def getNum(self):\n",
        "        return self.num\n",
        "\n",
        "    def setLeft(self, n):\n",
        "        self.left = Node(n)\n",
        "\n",
        "    def setRight(self, n):\n",
        "        self.right = Node(n)"
      ]
    },
    {
      "cell_type": "code",
      "execution_count": null,
      "metadata": {
        "id": "-Qxw19vVp4nD"
      },
      "outputs": [],
      "source": [
        "root = Node(6)\n",
        "\n",
        "root.setLeft(4)\n",
        "root.getLeft().setRight(5)\n",
        "root.getLeft().getRight().setLeft(6)\n",
        "root.getLeft().getRight().setLeft(2)\n",
        "root.getLeft().setLeft(3)\n",
        "root.getLeft().getLeft().setLeft(1)\n",
        "root.getLeft().getLeft().setRight(1)\n",
        "\n",
        "root.setRight(7)"
      ]
    },
    {
      "cell_type": "code",
      "execution_count": null,
      "metadata": {
        "colab": {
          "base_uri": "https://localhost:8080/"
        },
        "id": "7AGfB8u5p7_T",
        "outputId": "8cc5c0c4-0de8-4675-8428-02dffcf4fcb1"
      },
      "outputs": [
        {
          "data": {
            "text/plain": [
              "3"
            ]
          },
          "execution_count": 35,
          "metadata": {},
          "output_type": "execute_result"
        }
      ],
      "source": [
        "root.getLeft().getLeft().getNum()"
      ]
    },
    {
      "cell_type": "code",
      "execution_count": null,
      "metadata": {
        "id": "6VBR-KQGp-d8"
      },
      "outputs": [],
      "source": [
        "def helper(node: Node, min, max):\n",
        "    if node is None:\n",
        "        return True \n",
        "    elif (min is not None and node.getNum() < min) or (max is not None and node.getNum() > max):\n",
        "        return False\n",
        "    else:\n",
        "        return helper(node.getLeft(), min, node.getNum()) and helper(node.getRight(), node.getNum(), max)\n",
        "\n",
        "def validate(node):\n",
        "    return helper(node, None, None)"
      ]
    },
    {
      "cell_type": "code",
      "execution_count": null,
      "metadata": {
        "colab": {
          "base_uri": "https://localhost:8080/"
        },
        "id": "Yr9n0qOFroSt",
        "outputId": "84b13349-4100-4277-98a1-e48d3f30d5e0"
      },
      "outputs": [
        {
          "data": {
            "text/plain": [
              "False"
            ]
          },
          "execution_count": 37,
          "metadata": {},
          "output_type": "execute_result"
        }
      ],
      "source": [
        "validate(root)"
      ]
    }
  ],
  "metadata": {
    "colab": {
      "name": "binary search trees",
      "provenance": []
    },
    "kernelspec": {
      "display_name": "Python 3",
      "name": "python3"
    },
    "language_info": {
      "name": "python"
    }
  },
  "nbformat": 4,
  "nbformat_minor": 0
}
